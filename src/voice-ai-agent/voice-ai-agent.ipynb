{
 "cells": [
  {
   "cell_type": "code",
   "execution_count": null,
   "id": "b749afa2",
   "metadata": {
    "vscode": {
     "languageId": "csharp"
    }
   },
   "outputs": [],
   "source": []
  },
  {
   "cell_type": "code",
   "execution_count": null,
   "id": "fa627940",
   "metadata": {
    "vscode": {
     "languageId": "csharp"
    }
   },
   "outputs": [],
   "source": [
    "// Required NuGet packages (install via NuGet or dotnet CLI):\n",
    "// - Microsoft.SemanticKernel\n",
    "// - Azure.AI.OpenAI\n",
    "// - Azure.Communication.CallingServer\n",
    "// - Azure.Communication.Common\n",
    "\n",
    "using Microsoft.SemanticKernel;\n",
    "using Azure.AI.OpenAI;\n",
    "using Azure.Communication.CallingServer;\n",
    "using Azure.Communication;\n",
    "using System.Threading.Tasks;\n",
    "\n",
    "// Azure configuration\n",
    "string openAiEndpoint = \"<YOUR_AZURE_OPENAI_ENDPOINT>\";\n",
    "string openAiKey = \"<YOUR_AZURE_OPENAI_KEY>\";\n",
    "string openAiDeployment = \"<YOUR_OPENAI_DEPLOYMENT_NAME>\";\n",
    "string acsConnectionString = \"<YOUR_ACS_CONNECTION_STRING>\";\n",
    "string acsSourcePhoneNumber = \"<YOUR_ACS_SOURCE_PHONE_NUMBER>\";\n",
    "string acsTargetPhoneNumber = \"<TARGET_PHONE_NUMBER>\";\n",
    "\n",
    "// Initialize Semantic Kernel with Azure OpenAI\n",
    "IKernel kernel = Kernel.Builder\n",
    "    .AddAzureOpenAIChatCompletion(\n",
    "        deploymentName: openAiDeployment,\n",
    "        endpoint: openAiEndpoint,\n",
    "        apiKey: openAiKey)\n",
    "    .Build();\n",
    "\n",
    "// Example: Use Semantic Kernel to generate a call script\n",
    "string prompt = \"Generate a friendly phone call script to remind a customer about their upcoming appointment.\";\n",
    "string callScript = await kernel.InvokePromptAsync(prompt);\n",
    "\n",
    "// Initialize Azure Communication Services Call Automation client\n",
    "var callingServerClient = new CallingServerClient(acsConnectionString);\n",
    "\n",
    "// Start an outbound call\n",
    "var callConnection = await callingServerClient.CreateCallConnectionAsync(\n",
    "    new CallSource(new PhoneNumberIdentifier(acsSourcePhoneNumber)),\n",
    "    new[] { new PhoneNumberIdentifier(acsTargetPhoneNumber) },\n",
    "    new Uri(\"https://your-callback-url.com/api/callback\") // Replace with your callback endpoint\n",
    ");\n",
    "\n",
    "// Play the generated script as text-to-speech (TTS)\n",
    "await callConnection.Value.GetCallMedia().PlayToAllAsync(\n",
    "    new FileSource(new Uri($\"data:audio/wav;base64,{Convert.ToBase64String(System.Text.Encoding.UTF8.GetBytes(callScript))}\"))\n",
    ");\n",
    "\n",
    "// Note: For production, use Azure's TTS service to convert the script to audio and provide a valid audio file URI.\n",
    "// This example demonstrates the integration pattern, but actual TTS and event handling require additional setup."
   ]
  }
 ],
 "metadata": {
  "language_info": {
   "name": "python"
  }
 },
 "nbformat": 4,
 "nbformat_minor": 5
}
